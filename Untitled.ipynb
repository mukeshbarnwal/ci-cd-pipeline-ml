{
 "cells": [
  {
   "cell_type": "code",
   "execution_count": null,
   "id": "b3e39cfe-2e80-46f6-8903-32ab8fecf0be",
   "metadata": {},
   "outputs": [],
   "source": [
    "Given an array of integers nums and an integer target, return indices of the two numbers such that they add up to target.\n",
    "🔹Example:\n",
    "Input: nums = [2,7,11,15], target = 9  \n",
    "Output: [0,1] \n",
    "// Because nums[0] + nums[1] == 9"
   ]
  },
  {
   "cell_type": "code",
   "execution_count": 1,
   "id": "08593dd9-27b9-4f17-b3e0-9f16c424469e",
   "metadata": {},
   "outputs": [],
   "source": [
    "### \n",
    "# traverse across the array:\n",
    "# take an element: subtract the traget. find the subtracted element in the remaining elelemtns\n",
    "\n",
    "def indiviudal_indices(nums,target):\n",
    "    list_of_indices=[]\n",
    "    for i in range (0,len(nums)):\n",
    "        second_element=target-nums[i]\n",
    "        for j in range(i,len(nums)):\n",
    "            if second_element==nums[j]:\n",
    "                list_of_indices.append(i)\n",
    "                list_of_indices.append(j)\n",
    "                return list_of_indices\n",
    "        "
   ]
  },
  {
   "cell_type": "code",
   "execution_count": 26,
   "id": "056e1353-6254-40de-b7d8-8017de16b37e",
   "metadata": {},
   "outputs": [],
   "source": [
    "## hashmap\n",
    "## nums = [2,7,11,15] \n",
    "##         0 1 2 3\n",
    "def individual_indices(nums,target):\n",
    "    seen={} # value->index\n",
    "    for i,num in enumerate(nums):\n",
    "        diff=target-num\n",
    "        if diff in seen:\n",
    "            return [seen[diff],i]\n",
    "        seen[i]=num    "
   ]
  },
  {
   "cell_type": "code",
   "execution_count": 24,
   "id": "9e37e7ac-54b9-4847-85d8-588083bc6f1d",
   "metadata": {},
   "outputs": [],
   "source": [
    "seen1={}\n",
    "seen1[4]=1"
   ]
  },
  {
   "cell_type": "code",
   "execution_count": 25,
   "id": "ce4044bc-6760-4f30-b888-0d972f3f7a40",
   "metadata": {},
   "outputs": [
    {
     "data": {
      "text/plain": [
       "{4: 1}"
      ]
     },
     "execution_count": 25,
     "metadata": {},
     "output_type": "execute_result"
    }
   ],
   "source": [
    "seen1"
   ]
  },
  {
   "cell_type": "code",
   "execution_count": null,
   "id": "1b0d1c96-6502-4dad-89be-68b74a1c119e",
   "metadata": {},
   "outputs": [],
   "source": []
  },
  {
   "cell_type": "code",
   "execution_count": 35,
   "id": "f0e9b69f-c1ec-45c5-a646-95d9ae0449af",
   "metadata": {},
   "outputs": [],
   "source": [
    "nums = [2,7,11,15] \n",
    "target = 26"
   ]
  },
  {
   "cell_type": "code",
   "execution_count": 36,
   "id": "8b8d0326-08b8-458b-ad9b-30d262cebb77",
   "metadata": {},
   "outputs": [
    {
     "data": {
      "text/plain": [
       "[2, 3]"
      ]
     },
     "execution_count": 36,
     "metadata": {},
     "output_type": "execute_result"
    }
   ],
   "source": [
    "indiviudal_indices(nums,target)"
   ]
  },
  {
   "cell_type": "code",
   "execution_count": null,
   "id": "20712324-6871-4a6e-a8f3-a37f66024f74",
   "metadata": {},
   "outputs": [],
   "source": []
  },
  {
   "cell_type": "code",
   "execution_count": null,
   "id": "efa25611-cb51-4cf6-83d2-eac1783aaa14",
   "metadata": {},
   "outputs": [],
   "source": [
    "Given a string s, find the length of the longest substring without repeating characters.\n",
    "🔹Example:\n",
    "Input: s = \"abcabcbb\"\n",
    "Output: 3\n",
    "// The answer is \"abc\", with the length of 3."
   ]
  },
  {
   "cell_type": "code",
   "execution_count": 65,
   "id": "edc75f12-1fdb-44ea-a5cb-955855725bda",
   "metadata": {},
   "outputs": [],
   "source": [
    "####\n",
    "# traverse across the string/array \n",
    "# check next element is not equal to current element/ elements already in the sub string\n",
    "# if presenet. break. calculate the length. assign it to max_length. \n",
    "# start from next element. repeat. also check max_length should be greater than remaining characters present in the string. \n",
    "\n",
    "\n",
    "def longest_substring(s):\n",
    "    max_length_sub_string=0\n",
    "    \n",
    "    for i in range (0,len(s)):\n",
    "        sub_string=[]\n",
    "        sub_string.append(s[i])\n",
    "        #print(sub_string)\n",
    "        \n",
    "        j=i+1\n",
    "        while j<len(s) and s[j] not in sub_string:\n",
    "            sub_string.append(s[j])\n",
    "            print(sub_string)\n",
    "            j=j+1\n",
    "            \n",
    "        if len(sub_string)> max_length_sub_string:\n",
    "            max_length_sub_string=len(sub_string)\n",
    "            print (max_length_sub_string)\n",
    "\n",
    "        if (len(s)-i)<max_length_sub_string:\n",
    "            return max_length_sub_string"
   ]
  },
  {
   "cell_type": "code",
   "execution_count": 43,
   "id": "f68191cb-9b45-4a97-bb68-9ba3a1672c94",
   "metadata": {},
   "outputs": [],
   "source": [
    "s = \"abcabcbbc\""
   ]
  },
  {
   "cell_type": "code",
   "execution_count": 19,
   "id": "8178b931-7d85-4fdb-a122-fe01722811e2",
   "metadata": {},
   "outputs": [
    {
     "data": {
      "text/plain": [
       "'a'"
      ]
     },
     "execution_count": 19,
     "metadata": {},
     "output_type": "execute_result"
    }
   ],
   "source": [
    "s[0]"
   ]
  },
  {
   "cell_type": "code",
   "execution_count": 20,
   "id": "5c8a3799-79b4-4b6d-bd6e-fb6cbdead86d",
   "metadata": {},
   "outputs": [
    {
     "data": {
      "text/plain": [
       "'b'"
      ]
     },
     "execution_count": 20,
     "metadata": {},
     "output_type": "execute_result"
    }
   ],
   "source": [
    "s[1]"
   ]
  },
  {
   "cell_type": "code",
   "execution_count": 66,
   "id": "7c4f643a-d6cb-487e-8378-9b498001cd0c",
   "metadata": {},
   "outputs": [
    {
     "name": "stdout",
     "output_type": "stream",
     "text": [
      "['a', 'b']\n",
      "['a', 'b', 'c']\n",
      "3\n",
      "['b', 'c']\n",
      "['b', 'c', 'a']\n",
      "['c', 'a']\n",
      "['c', 'a', 'b']\n",
      "['a', 'b']\n",
      "['a', 'b', 'c']\n",
      "['b', 'c']\n",
      "['c', 'b']\n",
      "['b', 'c']\n"
     ]
    },
    {
     "data": {
      "text/plain": [
       "3"
      ]
     },
     "execution_count": 66,
     "metadata": {},
     "output_type": "execute_result"
    }
   ],
   "source": [
    "longest_substring(s)"
   ]
  },
  {
   "cell_type": "code",
   "execution_count": 63,
   "id": "4e601c4f-b575-4706-9d25-4ee2eb37e7cc",
   "metadata": {},
   "outputs": [],
   "source": [
    "def longest_substring1(s):\n",
    "    max_length_sub_string = 0\n",
    "    n = len(s)\n",
    "\n",
    "    for i in range(n):\n",
    "        sub_string = [s[i]]\n",
    "        j = i + 1\n",
    "        while j < n and s[j] not in sub_string:\n",
    "            sub_string.append(s[j])\n",
    "            j += 1\n",
    "\n",
    "        max_length_sub_string = max(max_length_sub_string, len(sub_string))\n",
    "\n",
    "        # early stopping if not enough characters left\n",
    "        if n - i <= max_length_sub_string:\n",
    "            break\n",
    "\n",
    "    return max_length_sub_string\n"
   ]
  },
  {
   "cell_type": "code",
   "execution_count": 64,
   "id": "c6b53f2a-c5ae-4592-bbc8-430127a27240",
   "metadata": {},
   "outputs": [
    {
     "data": {
      "text/plain": [
       "3"
      ]
     },
     "execution_count": 64,
     "metadata": {},
     "output_type": "execute_result"
    }
   ],
   "source": [
    "longest_substring1(s)"
   ]
  },
  {
   "cell_type": "code",
   "execution_count": 96,
   "id": "7794d5f3-cae0-4ead-bb79-858655ab7a18",
   "metadata": {},
   "outputs": [],
   "source": [
    "#### \n",
    "### longest substring wo repeating chars\n",
    "### means set me aur elements nahi aane chahiye\n",
    "\n",
    "#s= abcabcbbc\n",
    "\n",
    "def sliding_window_longest_substring(s):\n",
    "    set1=set()\n",
    "    max_length=0\n",
    "    left=0\n",
    "    for i in range(0,len(s)):\n",
    "        while s[i] in set1:\n",
    "            if len(set1)> max_length:\n",
    "                max_length=len(set1)\n",
    "            set1.remove(s[left])\n",
    "            left+=1\n",
    "        else:\n",
    "            set1.add(s[i])\n",
    "    return max_length"
   ]
  },
  {
   "cell_type": "code",
   "execution_count": 103,
   "id": "183832d8-35a0-4517-9c13-572760ce1744",
   "metadata": {},
   "outputs": [
    {
     "data": {
      "text/plain": [
       "3"
      ]
     },
     "execution_count": 103,
     "metadata": {},
     "output_type": "execute_result"
    }
   ],
   "source": [
    "sliding_window_longest_substring(s)"
   ]
  },
  {
   "cell_type": "code",
   "execution_count": 102,
   "id": "ecc05041-01d7-4f7d-aa3c-5793349c8607",
   "metadata": {},
   "outputs": [],
   "source": [
    "s = \"abcabcbbcbbbsde\""
   ]
  },
  {
   "cell_type": "code",
   "execution_count": 93,
   "id": "05f4566d-703d-4c5f-badc-844f33a280ee",
   "metadata": {},
   "outputs": [
    {
     "ename": "NameError",
     "evalue": "name 'set1' is not defined",
     "output_type": "error",
     "traceback": [
      "\u001b[31m---------------------------------------------------------------------------\u001b[39m",
      "\u001b[31mNameError\u001b[39m                                 Traceback (most recent call last)",
      "\u001b[36mCell\u001b[39m\u001b[36m \u001b[39m\u001b[32mIn[93]\u001b[39m\u001b[32m, line 1\u001b[39m\n\u001b[32m----> \u001b[39m\u001b[32m1\u001b[39m \u001b[43mset1\u001b[49m.remove(s[left])\n",
      "\u001b[31mNameError\u001b[39m: name 'set1' is not defined"
     ]
    }
   ],
   "source": [
    "set1.remove(s[left])"
   ]
  },
  {
   "cell_type": "code",
   "execution_count": 95,
   "id": "8936f349-fdf1-4ad3-85ea-96c71e41d7e7",
   "metadata": {},
   "outputs": [
    {
     "data": {
      "text/plain": [
       "<function print(*args, sep=' ', end='\\n', file=None, flush=False)>"
      ]
     },
     "execution_count": 95,
     "metadata": {},
     "output_type": "execute_result"
    }
   ],
   "source": [
    "a=set()\n",
    "a=set([2,3,4,4])\n",
    "print"
   ]
  },
  {
   "cell_type": "code",
   "execution_count": 76,
   "id": "16221620-efb7-49a3-97c6-ec51d4baa950",
   "metadata": {},
   "outputs": [],
   "source": [
    "a.add(4)"
   ]
  },
  {
   "cell_type": "code",
   "execution_count": 79,
   "id": "424da514-4a6b-48f6-8853-ce2931a3ed1e",
   "metadata": {},
   "outputs": [
    {
     "name": "stdout",
     "output_type": "stream",
     "text": [
      "1\n"
     ]
    }
   ],
   "source": [
    "if 3 in a:\n",
    "    print (1)"
   ]
  },
  {
   "cell_type": "code",
   "execution_count": null,
   "id": "f8a96f3c-572f-4a2b-ad26-5a08f8146d31",
   "metadata": {},
   "outputs": [],
   "source": []
  }
 ],
 "metadata": {
  "kernelspec": {
   "display_name": "Python 3 (ipykernel)",
   "language": "python",
   "name": "python3"
  },
  "language_info": {
   "codemirror_mode": {
    "name": "ipython",
    "version": 3
   },
   "file_extension": ".py",
   "mimetype": "text/x-python",
   "name": "python",
   "nbconvert_exporter": "python",
   "pygments_lexer": "ipython3",
   "version": "3.12.5"
  }
 },
 "nbformat": 4,
 "nbformat_minor": 5
}
